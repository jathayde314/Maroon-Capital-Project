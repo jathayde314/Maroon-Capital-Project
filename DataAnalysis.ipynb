{
 "cells": [
  {
   "cell_type": "code",
   "execution_count": 1,
   "id": "accompanied-architecture",
   "metadata": {},
   "outputs": [],
   "source": [
    "import numpy as np\n",
    "import pandas as pd"
   ]
  },
  {
   "cell_type": "code",
   "execution_count": 20,
   "id": "optimum-society",
   "metadata": {},
   "outputs": [
    {
     "data": {
      "text/html": [
       "<div>\n",
       "<style scoped>\n",
       "    .dataframe tbody tr th:only-of-type {\n",
       "        vertical-align: middle;\n",
       "    }\n",
       "\n",
       "    .dataframe tbody tr th {\n",
       "        vertical-align: top;\n",
       "    }\n",
       "\n",
       "    .dataframe thead th {\n",
       "        text-align: right;\n",
       "    }\n",
       "</style>\n",
       "<table border=\"1\" class=\"dataframe\">\n",
       "  <thead>\n",
       "    <tr style=\"text-align: right;\">\n",
       "      <th></th>\n",
       "      <th>Unnamed: 0</th>\n",
       "      <th>text</th>\n",
       "      <th>timestamp</th>\n",
       "      <th>likes</th>\n",
       "    </tr>\n",
       "  </thead>\n",
       "  <tbody>\n",
       "    <tr>\n",
       "      <th>0</th>\n",
       "      <td>1000</td>\n",
       "      <td>worth high low market cap billion</td>\n",
       "      <td>2013-07-04 19:00:36+00</td>\n",
       "      <td>1</td>\n",
       "    </tr>\n",
       "    <tr>\n",
       "      <th>1</th>\n",
       "      <td>1001</td>\n",
       "      <td>worth high low market cap billion</td>\n",
       "      <td>2013-07-04 20:00:36+00</td>\n",
       "      <td>1</td>\n",
       "    </tr>\n",
       "    <tr>\n",
       "      <th>2</th>\n",
       "      <td>1002</td>\n",
       "      <td>worth high low market cap billion</td>\n",
       "      <td>2013-07-04 21:00:35+00</td>\n",
       "      <td>1</td>\n",
       "    </tr>\n",
       "    <tr>\n",
       "      <th>3</th>\n",
       "      <td>1003</td>\n",
       "      <td>india cloud cover temp wind speed usher</td>\n",
       "      <td>2013-07-05 00:00:06+00</td>\n",
       "      <td>1</td>\n",
       "    </tr>\n",
       "    <tr>\n",
       "      <th>4</th>\n",
       "      <td>1004</td>\n",
       "      <td>worth high low market cap billion</td>\n",
       "      <td>2013-07-05 12:00:34+00</td>\n",
       "      <td>1</td>\n",
       "    </tr>\n",
       "    <tr>\n",
       "      <th>...</th>\n",
       "      <td>...</td>\n",
       "      <td>...</td>\n",
       "      <td>...</td>\n",
       "      <td>...</td>\n",
       "    </tr>\n",
       "    <tr>\n",
       "      <th>999993</th>\n",
       "      <td>1000993</td>\n",
       "      <td>girl asked finance new boob said listen sweeth...</td>\n",
       "      <td>2019-08-18 09:57:56+00</td>\n",
       "      <td>6</td>\n",
       "    </tr>\n",
       "    <tr>\n",
       "      <th>999994</th>\n",
       "      <td>1000994</td>\n",
       "      <td>bond bubble burst warns fall sure umbrella rai...</td>\n",
       "      <td>2019-08-18 09:58:10+00</td>\n",
       "      <td>8</td>\n",
       "    </tr>\n",
       "    <tr>\n",
       "      <th>999995</th>\n",
       "      <td>1000995</td>\n",
       "      <td>looking likely killer open database verified u...</td>\n",
       "      <td>2019-08-18 09:58:17+00</td>\n",
       "      <td>20</td>\n",
       "    </tr>\n",
       "    <tr>\n",
       "      <th>999996</th>\n",
       "      <td>1000996</td>\n",
       "      <td>NaN</td>\n",
       "      <td>2019-08-18 09:58:26+00</td>\n",
       "      <td>44</td>\n",
       "    </tr>\n",
       "    <tr>\n",
       "      <th>999997</th>\n",
       "      <td>1000997</td>\n",
       "      <td>casino uptown ace free spin sunday player casi...</td>\n",
       "      <td>2019-08-18 09:58:36+00</td>\n",
       "      <td>1</td>\n",
       "    </tr>\n",
       "  </tbody>\n",
       "</table>\n",
       "<p>999998 rows × 4 columns</p>\n",
       "</div>"
      ],
      "text/plain": [
       "        Unnamed: 0                                               text  \\\n",
       "0             1000                  worth high low market cap billion   \n",
       "1             1001                  worth high low market cap billion   \n",
       "2             1002                  worth high low market cap billion   \n",
       "3             1003            india cloud cover temp wind speed usher   \n",
       "4             1004                  worth high low market cap billion   \n",
       "...            ...                                                ...   \n",
       "999993     1000993  girl asked finance new boob said listen sweeth...   \n",
       "999994     1000994  bond bubble burst warns fall sure umbrella rai...   \n",
       "999995     1000995  looking likely killer open database verified u...   \n",
       "999996     1000996                                                NaN   \n",
       "999997     1000997  casino uptown ace free spin sunday player casi...   \n",
       "\n",
       "                     timestamp  likes  \n",
       "0       2013-07-04 19:00:36+00      1  \n",
       "1       2013-07-04 20:00:36+00      1  \n",
       "2       2013-07-04 21:00:35+00      1  \n",
       "3       2013-07-05 00:00:06+00      1  \n",
       "4       2013-07-05 12:00:34+00      1  \n",
       "...                        ...    ...  \n",
       "999993  2019-08-18 09:57:56+00      6  \n",
       "999994  2019-08-18 09:58:10+00      8  \n",
       "999995  2019-08-18 09:58:17+00     20  \n",
       "999996  2019-08-18 09:58:26+00     44  \n",
       "999997  2019-08-18 09:58:36+00      1  \n",
       "\n",
       "[999998 rows x 4 columns]"
      ]
     },
     "execution_count": 20,
     "metadata": {},
     "output_type": "execute_result"
    }
   ],
   "source": [
    "df = pd.read_csv(\"cleanTweets5.csv\")"
   ]
  },
  {
   "cell_type": "code",
   "execution_count": 21,
   "id": "automotive-adult",
   "metadata": {},
   "outputs": [
    {
     "name": "stderr",
     "output_type": "stream",
     "text": [
      "[nltk_data] Downloading package vader_lexicon to\n",
      "[nltk_data]     /Users/joshuaathayde/nltk_data...\n",
      "[nltk_data]   Package vader_lexicon is already up-to-date!\n"
     ]
    },
    {
     "data": {
      "text/plain": [
       "True"
      ]
     },
     "execution_count": 21,
     "metadata": {},
     "output_type": "execute_result"
    }
   ],
   "source": [
    "import nltk\n",
    "nltk.download('vader_lexicon')"
   ]
  },
  {
   "cell_type": "code",
   "execution_count": 22,
   "id": "still-ownership",
   "metadata": {},
   "outputs": [],
   "source": [
    "from nltk.sentiment.vader import SentimentIntensityAnalyzer"
   ]
  },
  {
   "cell_type": "code",
   "execution_count": 23,
   "id": "respiratory-header",
   "metadata": {},
   "outputs": [],
   "source": [
    "sid = SentimentIntensityAnalyzer()"
   ]
  },
  {
   "cell_type": "code",
   "execution_count": 24,
   "id": "valuable-front",
   "metadata": {},
   "outputs": [
    {
     "data": {
      "text/plain": [
       "{'neg': 0.0, 'neu': 0.408, 'pos': 0.592, 'compound': 0.4404}"
      ]
     },
     "execution_count": 24,
     "metadata": {},
     "output_type": "execute_result"
    }
   ],
   "source": [
    "sid.polarity_scores(\"this is good\")"
   ]
  },
  {
   "cell_type": "code",
   "execution_count": 28,
   "id": "residential-cookie",
   "metadata": {},
   "outputs": [
    {
     "data": {
      "text/plain": [
       "{'neg': 0.263, 'neu': 0.5, 'pos': 0.237, 'compound': -0.0516}"
      ]
     },
     "execution_count": 28,
     "metadata": {},
     "output_type": "execute_result"
    }
   ],
   "source": [
    "sid.polarity_scores(df['text'][0])"
   ]
  },
  {
   "cell_type": "code",
   "execution_count": 31,
   "id": "relevant-appliance",
   "metadata": {},
   "outputs": [],
   "source": [
    "df['text'] = df['text'].map(str)"
   ]
  },
  {
   "cell_type": "code",
   "execution_count": 32,
   "id": "nearby-tuesday",
   "metadata": {},
   "outputs": [],
   "source": [
    "df['vader_sentiment'] = df['text'].map(sid.polarity_scores)"
   ]
  },
  {
   "cell_type": "code",
   "execution_count": 35,
   "id": "flush-michael",
   "metadata": {},
   "outputs": [
    {
     "data": {
      "text/plain": [
       "{'neg': 0.0, 'neu': 1.0, 'pos': 0.0, 'compound': 0.0}"
      ]
     },
     "execution_count": 35,
     "metadata": {},
     "output_type": "execute_result"
    }
   ],
   "source": [
    "df['vader_sentiment'][1000]"
   ]
  },
  {
   "cell_type": "code",
   "execution_count": 41,
   "id": "nearby-south",
   "metadata": {},
   "outputs": [],
   "source": [
    "df['weight_avg'] = list(map(lambda x, y: (x['pos'] - x['neg']) * y, df['vader_sentiment'], df['likes']))"
   ]
  },
  {
   "cell_type": "code",
   "execution_count": 42,
   "id": "intended-austin",
   "metadata": {},
   "outputs": [
    {
     "data": {
      "text/plain": [
       "-0.026000000000000023"
      ]
     },
     "execution_count": 42,
     "metadata": {},
     "output_type": "execute_result"
    }
   ],
   "source": [
    "df['weight_avg'][0]"
   ]
  },
  {
   "cell_type": "code",
   "execution_count": 43,
   "id": "automated-alias",
   "metadata": {},
   "outputs": [],
   "source": [
    "df.to_csv('weighted_avg.csv')"
   ]
  },
  {
   "cell_type": "code",
   "execution_count": 45,
   "id": "premium-academy",
   "metadata": {},
   "outputs": [
    {
     "data": {
      "text/plain": [
       "'2013-07-04 19:00:36+00'"
      ]
     },
     "execution_count": 45,
     "metadata": {},
     "output_type": "execute_result"
    }
   ],
   "source": [
    "df['timestamp'][0]"
   ]
  },
  {
   "cell_type": "code",
   "execution_count": null,
   "id": "sonic-board",
   "metadata": {},
   "outputs": [],
   "source": []
  },
  {
   "cell_type": "code",
   "execution_count": 55,
   "id": "mathematical-scanner",
   "metadata": {},
   "outputs": [],
   "source": [
    "df['date'] = list(map(lambda x: x.split(' ')[0], df['timestamp']))"
   ]
  },
  {
   "cell_type": "code",
   "execution_count": 56,
   "id": "religious-screening",
   "metadata": {},
   "outputs": [],
   "source": [
    "import datetime"
   ]
  },
  {
   "cell_type": "code",
   "execution_count": 57,
   "id": "artistic-tiger",
   "metadata": {},
   "outputs": [],
   "source": [
    "test = df['date'][0].split('-')"
   ]
  },
  {
   "cell_type": "code",
   "execution_count": 58,
   "id": "military-diagram",
   "metadata": {},
   "outputs": [
    {
     "data": {
      "text/plain": [
       "['2013', '07', '04']"
      ]
     },
     "execution_count": 58,
     "metadata": {},
     "output_type": "execute_result"
    }
   ],
   "source": [
    "test"
   ]
  },
  {
   "cell_type": "code",
   "execution_count": 60,
   "id": "critical-wilderness",
   "metadata": {},
   "outputs": [],
   "source": [
    "test_date = datetime.date(int(test[0]), int(test[1]), int(test[2]))"
   ]
  },
  {
   "cell_type": "code",
   "execution_count": 61,
   "id": "adult-strip",
   "metadata": {},
   "outputs": [
    {
     "data": {
      "text/plain": [
       "datetime.date(2013, 7, 4)"
      ]
     },
     "execution_count": 61,
     "metadata": {},
     "output_type": "execute_result"
    }
   ],
   "source": [
    "test_date"
   ]
  },
  {
   "cell_type": "code",
   "execution_count": 94,
   "id": "particular-decision",
   "metadata": {},
   "outputs": [],
   "source": [
    "def toDate(date):\n",
    "    x = date.split('-')\n",
    "    try: return datetime.date(int(x[0]), int(x[1]), int(x[2]))\n",
    "    except: print(x)"
   ]
  },
  {
   "cell_type": "code",
   "execution_count": 95,
   "id": "executed-polyester",
   "metadata": {},
   "outputs": [],
   "source": [
    "df['date_obj'] = df['date'].map(toDate)"
   ]
  },
  {
   "cell_type": "code",
   "execution_count": 96,
   "id": "material-parade",
   "metadata": {},
   "outputs": [
    {
     "data": {
      "text/plain": [
       "0         2013-07-04\n",
       "1         2013-07-04\n",
       "2         2013-07-04\n",
       "3         2013-07-05\n",
       "4         2013-07-05\n",
       "             ...    \n",
       "999993    2019-08-18\n",
       "999994    2019-08-18\n",
       "999995    2019-08-18\n",
       "999996    2019-08-18\n",
       "999997    2019-08-18\n",
       "Name: date_obj, Length: 999998, dtype: object"
      ]
     },
     "execution_count": 96,
     "metadata": {},
     "output_type": "execute_result"
    }
   ],
   "source": [
    "df['date_obj']"
   ]
  },
  {
   "cell_type": "code",
   "execution_count": 64,
   "id": "inner-wilderness",
   "metadata": {},
   "outputs": [],
   "source": [
    "col = df['date']"
   ]
  },
  {
   "cell_type": "code",
   "execution_count": 75,
   "id": "artistic-tours",
   "metadata": {},
   "outputs": [],
   "source": [
    "test = col.map(lambda x: x.split('-')[1])"
   ]
  },
  {
   "cell_type": "code",
   "execution_count": 87,
   "id": "modified-second",
   "metadata": {},
   "outputs": [
    {
     "data": {
      "text/plain": [
       "12"
      ]
     },
     "execution_count": 87,
     "metadata": {},
     "output_type": "execute_result"
    }
   ],
   "source": [
    "int(test.max())"
   ]
  },
  {
   "cell_type": "code",
   "execution_count": 88,
   "id": "electrical-century",
   "metadata": {},
   "outputs": [
    {
     "data": {
      "text/plain": [
       "False"
      ]
     },
     "execution_count": 88,
     "metadata": {},
     "output_type": "execute_result"
    }
   ],
   "source": [
    "retval = False\n",
    "for x in df['date'].isna():\n",
    "    retval = retval or x\n",
    "retval"
   ]
  },
  {
   "cell_type": "code",
   "execution_count": 82,
   "id": "designed-saint",
   "metadata": {},
   "outputs": [
    {
     "data": {
      "text/plain": [
       "0         2013-07-04\n",
       "1         2013-07-04\n",
       "2         2013-07-04\n",
       "3         2013-07-05\n",
       "4         2013-07-05\n",
       "             ...    \n",
       "999993    2019-08-18\n",
       "999994    2019-08-18\n",
       "999995    2019-08-18\n",
       "999996    2019-08-18\n",
       "999997    2019-08-18\n",
       "Name: date, Length: 999998, dtype: object"
      ]
     },
     "execution_count": 82,
     "metadata": {},
     "output_type": "execute_result"
    }
   ],
   "source": [
    "df['date']"
   ]
  },
  {
   "cell_type": "code",
   "execution_count": 145,
   "id": "homeless-shield",
   "metadata": {},
   "outputs": [],
   "source": [
    "newdf = df.groupby('date_obj').sum()[['weight_avg']]"
   ]
  },
  {
   "cell_type": "code",
   "execution_count": 149,
   "id": "advised-dealer",
   "metadata": {},
   "outputs": [],
   "source": [
    "df2 = pd.DataFrame(newdf['weight_avg'])"
   ]
  },
  {
   "cell_type": "code",
   "execution_count": 169,
   "id": "fantastic-intelligence",
   "metadata": {},
   "outputs": [],
   "source": [
    "df2.to_csv('signal_data.csv')"
   ]
  },
  {
   "cell_type": "code",
   "execution_count": 170,
   "id": "charged-motivation",
   "metadata": {},
   "outputs": [
    {
     "ename": "TypeError",
     "evalue": "read_csv() got an unexpected keyword argument 'index'",
     "output_type": "error",
     "traceback": [
      "\u001b[0;31m---------------------------------------------------------------------------\u001b[0m",
      "\u001b[0;31mTypeError\u001b[0m                                 Traceback (most recent call last)",
      "\u001b[0;32m<ipython-input-170-f1232b491342>\u001b[0m in \u001b[0;36m<module>\u001b[0;34m\u001b[0m\n\u001b[0;32m----> 1\u001b[0;31m \u001b[0mdf\u001b[0m \u001b[0;34m=\u001b[0m \u001b[0mpd\u001b[0m\u001b[0;34m.\u001b[0m\u001b[0mread_csv\u001b[0m\u001b[0;34m(\u001b[0m\u001b[0;34m\"signal_data.csv\"\u001b[0m\u001b[0;34m,\u001b[0m \u001b[0mindex\u001b[0m \u001b[0;34m=\u001b[0m \u001b[0;34m'date_obj'\u001b[0m\u001b[0;34m)\u001b[0m\u001b[0;34m\u001b[0m\u001b[0;34m\u001b[0m\u001b[0m\n\u001b[0m",
      "\u001b[0;31mTypeError\u001b[0m: read_csv() got an unexpected keyword argument 'index'"
     ]
    }
   ],
   "source": [
    "df = pd.read_csv(\"signal_data.csv\", index = 'date_obj')"
   ]
  },
  {
   "cell_type": "code",
   "execution_count": 162,
   "id": "different-registration",
   "metadata": {},
   "outputs": [
    {
     "data": {
      "text/plain": [
       "0          -0.078\n",
       "1          -0.006\n",
       "2          -0.234\n",
       "3           0.334\n",
       "4          -0.182\n",
       "          ...    \n",
       "2228    27971.888\n",
       "2229    24192.185\n",
       "2230    17782.938\n",
       "2231    12829.994\n",
       "2232     2192.757\n",
       "Name: weight_avg, Length: 2233, dtype: float64"
      ]
     },
     "execution_count": 162,
     "metadata": {},
     "output_type": "execute_result"
    }
   ],
   "source": [
    "df['weight_avg']"
   ]
  },
  {
   "cell_type": "code",
   "execution_count": 174,
   "id": "canadian-monte",
   "metadata": {},
   "outputs": [],
   "source": [
    "df.rename(columns = {'date_obj': 'date'}, inplace = True)"
   ]
  },
  {
   "cell_type": "code",
   "execution_count": 175,
   "id": "dated-allen",
   "metadata": {},
   "outputs": [
    {
     "data": {
      "text/html": [
       "<div>\n",
       "<style scoped>\n",
       "    .dataframe tbody tr th:only-of-type {\n",
       "        vertical-align: middle;\n",
       "    }\n",
       "\n",
       "    .dataframe tbody tr th {\n",
       "        vertical-align: top;\n",
       "    }\n",
       "\n",
       "    .dataframe thead th {\n",
       "        text-align: right;\n",
       "    }\n",
       "</style>\n",
       "<table border=\"1\" class=\"dataframe\">\n",
       "  <thead>\n",
       "    <tr style=\"text-align: right;\">\n",
       "      <th></th>\n",
       "      <th>date</th>\n",
       "      <th>weight_avg</th>\n",
       "    </tr>\n",
       "  </thead>\n",
       "  <tbody>\n",
       "    <tr>\n",
       "      <th>0</th>\n",
       "      <td>2013-07-04</td>\n",
       "      <td>-0.078</td>\n",
       "    </tr>\n",
       "    <tr>\n",
       "      <th>1</th>\n",
       "      <td>2013-07-05</td>\n",
       "      <td>-0.006</td>\n",
       "    </tr>\n",
       "    <tr>\n",
       "      <th>2</th>\n",
       "      <td>2013-07-06</td>\n",
       "      <td>-0.234</td>\n",
       "    </tr>\n",
       "    <tr>\n",
       "      <th>3</th>\n",
       "      <td>2013-07-07</td>\n",
       "      <td>0.334</td>\n",
       "    </tr>\n",
       "    <tr>\n",
       "      <th>4</th>\n",
       "      <td>2013-07-08</td>\n",
       "      <td>-0.182</td>\n",
       "    </tr>\n",
       "    <tr>\n",
       "      <th>...</th>\n",
       "      <td>...</td>\n",
       "      <td>...</td>\n",
       "    </tr>\n",
       "    <tr>\n",
       "      <th>2228</th>\n",
       "      <td>2019-08-14</td>\n",
       "      <td>27971.888</td>\n",
       "    </tr>\n",
       "    <tr>\n",
       "      <th>2229</th>\n",
       "      <td>2019-08-15</td>\n",
       "      <td>24192.185</td>\n",
       "    </tr>\n",
       "    <tr>\n",
       "      <th>2230</th>\n",
       "      <td>2019-08-16</td>\n",
       "      <td>17782.938</td>\n",
       "    </tr>\n",
       "    <tr>\n",
       "      <th>2231</th>\n",
       "      <td>2019-08-17</td>\n",
       "      <td>12829.994</td>\n",
       "    </tr>\n",
       "    <tr>\n",
       "      <th>2232</th>\n",
       "      <td>2019-08-18</td>\n",
       "      <td>2192.757</td>\n",
       "    </tr>\n",
       "  </tbody>\n",
       "</table>\n",
       "<p>2233 rows × 2 columns</p>\n",
       "</div>"
      ],
      "text/plain": [
       "            date  weight_avg\n",
       "0     2013-07-04      -0.078\n",
       "1     2013-07-05      -0.006\n",
       "2     2013-07-06      -0.234\n",
       "3     2013-07-07       0.334\n",
       "4     2013-07-08      -0.182\n",
       "...          ...         ...\n",
       "2228  2019-08-14   27971.888\n",
       "2229  2019-08-15   24192.185\n",
       "2230  2019-08-16   17782.938\n",
       "2231  2019-08-17   12829.994\n",
       "2232  2019-08-18    2192.757\n",
       "\n",
       "[2233 rows x 2 columns]"
      ]
     },
     "execution_count": 175,
     "metadata": {},
     "output_type": "execute_result"
    }
   ],
   "source": [
    "df"
   ]
  },
  {
   "cell_type": "code",
   "execution_count": 176,
   "id": "becoming-suspension",
   "metadata": {},
   "outputs": [],
   "source": [
    "df.to_csv('signal_data.csv')"
   ]
  },
  {
   "cell_type": "code",
   "execution_count": 177,
   "id": "occupied-sheriff",
   "metadata": {},
   "outputs": [
    {
     "data": {
      "text/plain": [
       "0       2013-07-04\n",
       "1       2013-07-05\n",
       "2       2013-07-06\n",
       "3       2013-07-07\n",
       "4       2013-07-08\n",
       "           ...    \n",
       "2228    2019-08-14\n",
       "2229    2019-08-15\n",
       "2230    2019-08-16\n",
       "2231    2019-08-17\n",
       "2232    2019-08-18\n",
       "Name: date, Length: 2233, dtype: object"
      ]
     },
     "execution_count": 177,
     "metadata": {},
     "output_type": "execute_result"
    }
   ],
   "source": [
    "df['date']"
   ]
  },
  {
   "cell_type": "code",
   "execution_count": null,
   "id": "outstanding-horizontal",
   "metadata": {},
   "outputs": [],
   "source": []
  }
 ],
 "metadata": {
  "kernelspec": {
   "display_name": "Python 3",
   "language": "python",
   "name": "python3"
  },
  "language_info": {
   "codemirror_mode": {
    "name": "ipython",
    "version": 3
   },
   "file_extension": ".py",
   "mimetype": "text/x-python",
   "name": "python",
   "nbconvert_exporter": "python",
   "pygments_lexer": "ipython3",
   "version": "3.8.5"
  }
 },
 "nbformat": 4,
 "nbformat_minor": 5
}
